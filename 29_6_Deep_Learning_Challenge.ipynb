{
  "nbformat": 4,
  "nbformat_minor": 0,
  "metadata": {
    "colab": {
      "provenance": [],
      "authorship_tag": "ABX9TyMCdF2inrOVmw0Q/QrItdOj",
      "include_colab_link": true
    },
    "kernelspec": {
      "name": "python3",
      "display_name": "Python 3"
    },
    "language_info": {
      "name": "python"
    }
  },
  "cells": [
    {
      "cell_type": "markdown",
      "metadata": {
        "id": "view-in-github",
        "colab_type": "text"
      },
      "source": [
        "<a href=\"https://colab.research.google.com/github/ashleychoi121/Fashion-MNIST/blob/main/29_6_Deep_Learning_Challenge.ipynb\" target=\"_parent\"><img src=\"https://colab.research.google.com/assets/colab-badge.svg\" alt=\"Open In Colab\"/></a>"
      ]
    },
    {
      "cell_type": "code",
      "execution_count": 1,
      "metadata": {
        "colab": {
          "base_uri": "https://localhost:8080/"
        },
        "id": "yXyOIB4OS8Cs",
        "outputId": "2e9d0ffb-a492-47d5-caec-43c8b72026a9"
      },
      "outputs": [
        {
          "output_type": "stream",
          "name": "stdout",
          "text": [
            "Looking in indexes: https://pypi.org/simple, https://us-python.pkg.dev/colab-wheels/public/simple/\n",
            "\u001b[31mERROR: Could not find a version that satisfies the requirement tensorflow-gpu==2.0.0-rc1 (from versions: 2.2.0, 2.2.1, 2.2.2, 2.2.3, 2.3.0, 2.3.1, 2.3.2, 2.3.3, 2.3.4, 2.4.0, 2.4.1, 2.4.2, 2.4.3, 2.4.4, 2.5.0, 2.5.1, 2.5.2, 2.5.3, 2.6.0, 2.6.1, 2.6.2, 2.6.3, 2.6.4, 2.6.5, 2.7.0rc0, 2.7.0rc1, 2.7.0, 2.7.1, 2.7.2, 2.7.3, 2.7.4, 2.8.0rc0, 2.8.0rc1, 2.8.0, 2.8.1, 2.8.2, 2.8.3, 2.8.4, 2.9.0rc0, 2.9.0rc1, 2.9.0rc2, 2.9.0, 2.9.1, 2.9.2, 2.9.3, 2.10.0rc0, 2.10.0rc1, 2.10.0rc2, 2.10.0rc3, 2.10.0, 2.10.1, 2.11.0rc0, 2.11.0rc1, 2.11.0rc2, 2.11.0)\u001b[0m\u001b[31m\n",
            "\u001b[0m\u001b[31mERROR: No matching distribution found for tensorflow-gpu==2.0.0-rc1\u001b[0m\u001b[31m\n",
            "\u001b[0m"
          ]
        }
      ],
      "source": [
        "!pip install tensorflow-gpu==2.0.0-rc1"
      ]
    },
    {
      "cell_type": "code",
      "source": [
        "import tensorflow as tf\n",
        "from tensorflow import keras\n",
        "image_data = tf.keras.datasets.fashion_mnist\n"
      ],
      "metadata": {
        "id": "UlfBZbeceIrE"
      },
      "execution_count": 5,
      "outputs": []
    },
    {
      "cell_type": "markdown",
      "source": [
        "MNIST Fashion data has been used for this project. Different deep learning models will be built to compare and conclude with the best model for the dataset. "
      ],
      "metadata": {
        "id": "yJaXigKYj3qL"
      }
    },
    {
      "cell_type": "code",
      "source": [
        "(X_train, y_train), (X_test, y_test) = image_data.load_data()"
      ],
      "metadata": {
        "colab": {
          "base_uri": "https://localhost:8080/"
        },
        "id": "WhUvuczPe0xT",
        "outputId": "f3939a4d-99dc-401e-f746-9055f0580d79"
      },
      "execution_count": 6,
      "outputs": [
        {
          "output_type": "stream",
          "name": "stdout",
          "text": [
            "Downloading data from https://storage.googleapis.com/tensorflow/tf-keras-datasets/train-labels-idx1-ubyte.gz\n",
            "29515/29515 [==============================] - 0s 0us/step\n",
            "Downloading data from https://storage.googleapis.com/tensorflow/tf-keras-datasets/train-images-idx3-ubyte.gz\n",
            "26421880/26421880 [==============================] - 0s 0us/step\n",
            "Downloading data from https://storage.googleapis.com/tensorflow/tf-keras-datasets/t10k-labels-idx1-ubyte.gz\n",
            "5148/5148 [==============================] - 0s 0us/step\n",
            "Downloading data from https://storage.googleapis.com/tensorflow/tf-keras-datasets/t10k-images-idx3-ubyte.gz\n",
            "4422102/4422102 [==============================] - 0s 0us/step\n"
          ]
        }
      ]
    },
    {
      "cell_type": "code",
      "source": [
        "import matplotlib.pyplot as plt\n",
        "plt.imshow(X_train[10])"
      ],
      "metadata": {
        "colab": {
          "base_uri": "https://localhost:8080/",
          "height": 282
        },
        "id": "Kqh7mkLHfD8S",
        "outputId": "360d104e-9ff5-4a77-ec76-7bbc363ba530"
      },
      "execution_count": 10,
      "outputs": [
        {
          "output_type": "execute_result",
          "data": {
            "text/plain": [
              "<matplotlib.image.AxesImage at 0x7f840f110bb0>"
            ]
          },
          "metadata": {},
          "execution_count": 10
        },
        {
          "output_type": "display_data",
          "data": {
            "text/plain": [
              "<Figure size 432x288 with 1 Axes>"
            ],
            "image/png": "[encoded data removed]"
          },
          "metadata": {
            "needs_background": "light"
          }
        }
      ]
    },
    {
      "cell_type": "code",
      "source": [
        "print('Train set size:', X_train.shape)\n",
        "print('Test set size:', X_test.shape)"
      ],
      "metadata": {
        "colab": {
          "base_uri": "https://localhost:8080/"
        },
        "id": "-NuQFEtofbFW",
        "outputId": "c081a3d9-38c0-4224-e9f9-851f1cc82bef"
      },
      "execution_count": 14,
      "outputs": [
        {
          "output_type": "stream",
          "name": "stdout",
          "text": [
            "Train set size: (60000, 28, 28)\n",
            "Test set size: (10000, 28, 28)\n"
          ]
        }
      ]
    },
    {
      "cell_type": "code",
      "source": [
        "input_dim = 784  # 28*28\n",
        "output_dim = nb_classes = 10\n",
        "batch_size = 128\n",
        "nb_epoch = 20\n",
        "\n",
        "X_train = X_train.reshape(60000, input_dim)\n",
        "X_test = X_test.reshape(10000, input_dim)\n",
        "X_train = X_train.astype('float32')\n",
        "X_test = X_test.astype('float32')\n",
        "X_train /= 255\n",
        "X_test /= 255"
      ],
      "metadata": {
        "id": "PciYar6fTFge"
      },
      "execution_count": 15,
      "outputs": []
    },
    {
      "cell_type": "code",
      "source": [
        "from tensorflow.keras.utils import to_categorical\n",
        "\n",
        "Y_train = to_categorical(y_train, nb_classes)\n",
        "Y_test = to_categorical(y_test, nb_classes)"
      ],
      "metadata": {
        "id": "FqHtgqfOTH1U"
      },
      "execution_count": 16,
      "outputs": []
    },
    {
      "cell_type": "code",
      "source": [
        "# Objective 1: Number of layers\n",
        "\n",
        "from tensorflow.keras.models import Sequential \n",
        "from tensorflow.keras.layers import Dense\n",
        "\n",
        "model_1 = Sequential()\n",
        "# The first dense layer\n",
        "model_1.add(Dense(128, input_shape=(784,), activation=\"relu\"))\n",
        "# The second dense layer\n",
        "model_1.add(Dense(64, input_shape=(784,), activation=\"relu\"))\n",
        "# The last layer is the output layer\n",
        "model_1.add(Dense(10, activation=\"softmax\"))\n",
        "\n",
        "model_1.compile(optimizer='sgd', loss='categorical_crossentropy',\n",
        "              metrics=['accuracy'])\n",
        "\n",
        "model_1.fit(X_train, Y_train, batch_size=batch_size, epochs=20, verbose=1)"
      ],
      "metadata": {
        "colab": {
          "base_uri": "https://localhost:8080/"
        },
        "id": "L9S5xnNZTVAZ",
        "outputId": "6a98d98d-a8bd-474d-f55e-fb7290d2c45f"
      },
      "execution_count": 17,
      "outputs": [
        {
          "output_type": "stream",
          "name": "stdout",
          "text": [
            "Epoch 1/20\n",
            "469/469 [==============================] - 3s 5ms/step - loss: 1.1364 - accuracy: 0.6496\n",
            "Epoch 2/20\n",
            "469/469 [==============================] - 2s 4ms/step - loss: 0.6721 - accuracy: 0.7780\n",
            "Epoch 3/20\n",
            "469/469 [==============================] - 2s 4ms/step - loss: 0.5767 - accuracy: 0.8072\n",
            "Epoch 4/20\n",
            "469/469 [==============================] - 2s 4ms/step - loss: 0.5294 - accuracy: 0.8201\n",
            "Epoch 5/20\n",
            "469/469 [==============================] - 2s 5ms/step - loss: 0.5003 - accuracy: 0.8285\n",
            "Epoch 6/20\n",
            "469/469 [==============================] - 3s 6ms/step - loss: 0.4796 - accuracy: 0.8358\n",
            "Epoch 7/20\n",
            "469/469 [==============================] - 2s 4ms/step - loss: 0.4635 - accuracy: 0.8402\n",
            "Epoch 8/20\n",
            "469/469 [==============================] - 2s 4ms/step - loss: 0.4513 - accuracy: 0.8432\n",
            "Epoch 9/20\n",
            "469/469 [==============================] - 2s 4ms/step - loss: 0.4414 - accuracy: 0.8461\n",
            "Epoch 10/20\n",
            "469/469 [==============================] - 2s 4ms/step - loss: 0.4327 - accuracy: 0.8506\n",
            "Epoch 11/20\n",
            "469/469 [==============================] - 2s 4ms/step - loss: 0.4253 - accuracy: 0.8522\n",
            "Epoch 12/20\n",
            "469/469 [==============================] - 2s 4ms/step - loss: 0.4181 - accuracy: 0.8543\n",
            "Epoch 13/20\n",
            "469/469 [==============================] - 2s 5ms/step - loss: 0.4117 - accuracy: 0.8572\n",
            "Epoch 14/20\n",
            "469/469 [==============================] - 2s 5ms/step - loss: 0.4072 - accuracy: 0.8575\n",
            "Epoch 15/20\n",
            "469/469 [==============================] - 2s 4ms/step - loss: 0.4014 - accuracy: 0.8593\n",
            "Epoch 16/20\n",
            "469/469 [==============================] - 2s 4ms/step - loss: 0.3964 - accuracy: 0.8618\n",
            "Epoch 17/20\n",
            "469/469 [==============================] - 2s 4ms/step - loss: 0.3906 - accuracy: 0.8644\n",
            "Epoch 18/20\n",
            "469/469 [==============================] - 2s 5ms/step - loss: 0.3869 - accuracy: 0.8642\n",
            "Epoch 19/20\n",
            "469/469 [==============================] - 2s 5ms/step - loss: 0.3840 - accuracy: 0.8652\n",
            "Epoch 20/20\n",
            "469/469 [==============================] - 2s 5ms/step - loss: 0.3791 - accuracy: 0.8676\n"
          ]
        },
        {
          "output_type": "execute_result",
          "data": {
            "text/plain": [
              "<keras.callbacks.History at 0x7f84096700a0>"
            ]
          },
          "metadata": {},
          "execution_count": 17
        }
      ]
    },
    {
      "cell_type": "code",
      "source": [
        "score = model_1.evaluate(X_test, Y_test, verbose=0)\n",
        "print('Test score:', score[0])\n",
        "print('Test accuracy:', score[1])"
      ],
      "metadata": {
        "colab": {
          "base_uri": "https://localhost:8080/"
        },
        "id": "Q2WZqdPbUCwJ",
        "outputId": "3d105cc4-2a45-4f7a-d93e-336f958fe2e5"
      },
      "execution_count": 18,
      "outputs": [
        {
          "output_type": "stream",
          "name": "stdout",
          "text": [
            "Test score: 0.4210454225540161\n",
            "Test accuracy: 0.8508999943733215\n"
          ]
        }
      ]
    },
    {
      "cell_type": "code",
      "source": [
        "model_2 = Sequential()\n",
        "# The first dense layer\n",
        "model_2.add(Dense(512, input_shape=(784,), activation=\"relu\"))\n",
        "# The second dense layer\n",
        "model_2.add(Dense(256, input_shape=(784,), activation=\"relu\"))\n",
        "# The third dense layer\n",
        "model_2.add(Dense(128, input_shape=(784,), activation=\"relu\"))\n",
        "# The fourth dense layer\n",
        "model_2.add(Dense(64, input_shape=(784,), activation=\"relu\"))\n",
        "# The last layer is the output layer\n",
        "model_2.add(Dense(10, activation=\"softmax\"))\n",
        "\n",
        "model_2.compile(optimizer='sgd', loss='categorical_crossentropy',\n",
        "              metrics=['accuracy'])\n",
        "\n",
        "model_2.fit(X_train, Y_train, batch_size=batch_size, epochs=20, verbose=1)"
      ],
      "metadata": {
        "colab": {
          "base_uri": "https://localhost:8080/"
        },
        "id": "I05EwullUHc9",
        "outputId": "5d64ce93-f9fb-4d22-cea0-f493f117b4fd"
      },
      "execution_count": 19,
      "outputs": [
        {
          "output_type": "stream",
          "name": "stdout",
          "text": [
            "Epoch 1/20\n",
            "469/469 [==============================] - 6s 11ms/step - loss: 1.0709 - accuracy: 0.6653\n",
            "Epoch 2/20\n",
            "469/469 [==============================] - 6s 13ms/step - loss: 0.6011 - accuracy: 0.7937\n",
            "Epoch 3/20\n",
            "469/469 [==============================] - 7s 15ms/step - loss: 0.5209 - accuracy: 0.8170\n",
            "Epoch 4/20\n",
            "469/469 [==============================] - 5s 11ms/step - loss: 0.4777 - accuracy: 0.8337\n",
            "Epoch 5/20\n",
            "469/469 [==============================] - 5s 11ms/step - loss: 0.4515 - accuracy: 0.8412\n",
            "Epoch 6/20\n",
            "469/469 [==============================] - 5s 11ms/step - loss: 0.4306 - accuracy: 0.8493\n",
            "Epoch 7/20\n",
            "469/469 [==============================] - 5s 11ms/step - loss: 0.4182 - accuracy: 0.8540\n",
            "Epoch 8/20\n",
            "469/469 [==============================] - 5s 11ms/step - loss: 0.4034 - accuracy: 0.8583\n",
            "Epoch 9/20\n",
            "469/469 [==============================] - 5s 11ms/step - loss: 0.3939 - accuracy: 0.8608\n",
            "Epoch 10/20\n",
            "469/469 [==============================] - 5s 11ms/step - loss: 0.3848 - accuracy: 0.8648\n",
            "Epoch 11/20\n",
            "469/469 [==============================] - 7s 14ms/step - loss: 0.3755 - accuracy: 0.8679\n",
            "Epoch 12/20\n",
            "469/469 [==============================] - 6s 12ms/step - loss: 0.3664 - accuracy: 0.8701\n",
            "Epoch 13/20\n",
            "469/469 [==============================] - 6s 13ms/step - loss: 0.3619 - accuracy: 0.8719\n",
            "Epoch 14/20\n",
            "469/469 [==============================] - 5s 11ms/step - loss: 0.3535 - accuracy: 0.8741\n",
            "Epoch 15/20\n",
            "469/469 [==============================] - 5s 11ms/step - loss: 0.3465 - accuracy: 0.8768\n",
            "Epoch 16/20\n",
            "469/469 [==============================] - 5s 11ms/step - loss: 0.3413 - accuracy: 0.8790\n",
            "Epoch 17/20\n",
            "469/469 [==============================] - 5s 11ms/step - loss: 0.3351 - accuracy: 0.8812\n",
            "Epoch 18/20\n",
            "469/469 [==============================] - 6s 12ms/step - loss: 0.3309 - accuracy: 0.8821\n",
            "Epoch 19/20\n",
            "469/469 [==============================] - 6s 12ms/step - loss: 0.3250 - accuracy: 0.8833\n",
            "Epoch 20/20\n",
            "469/469 [==============================] - 5s 11ms/step - loss: 0.3203 - accuracy: 0.8849\n"
          ]
        },
        {
          "output_type": "execute_result",
          "data": {
            "text/plain": [
              "<keras.callbacks.History at 0x7f84095be4c0>"
            ]
          },
          "metadata": {},
          "execution_count": 19
        }
      ]
    },
    {
      "cell_type": "code",
      "source": [
        "score = model_2.evaluate(X_test, Y_test, verbose=0)\n",
        "print('Test score:', score[0])\n",
        "print('Test accuracy:', score[1])"
      ],
      "metadata": {
        "colab": {
          "base_uri": "https://localhost:8080/"
        },
        "id": "jZqe_K59UgXj",
        "outputId": "045d65eb-a362-47af-dc58-4cc57b7ca425"
      },
      "execution_count": 20,
      "outputs": [
        {
          "output_type": "stream",
          "name": "stdout",
          "text": [
            "Test score: 0.3974567949771881\n",
            "Test accuracy: 0.8575000166893005\n"
          ]
        }
      ]
    },
    {
      "cell_type": "code",
      "source": [
        "model_3 = Sequential()\n",
        "# The first dense layer\n",
        "model_3.add(Dense(1024, input_shape=(784,), activation=\"relu\"))\n",
        "# The second dense layer\n",
        "model_3.add(Dense(512, input_shape=(784,), activation=\"relu\"))\n",
        "# The third dense layer\n",
        "model_3.add(Dense(256, input_shape=(784,), activation=\"relu\"))\n",
        "# The fourth dense layer\n",
        "model_3.add(Dense(128, input_shape=(784,), activation=\"relu\"))\n",
        "# The firth dense layer\n",
        "model_3.add(Dense(64, input_shape=(784,), activation=\"relu\"))\n",
        "# The last layer is the output layer\n",
        "model_3.add(Dense(10, activation=\"softmax\"))\n",
        "\n",
        "model_3.compile(optimizer='sgd', loss='categorical_crossentropy',\n",
        "              metrics=['accuracy'])\n",
        "\n",
        "model_3.fit(X_train, Y_train, batch_size=batch_size, epochs=20, verbose=1)"
      ],
      "metadata": {
        "colab": {
          "base_uri": "https://localhost:8080/"
        },
        "id": "RjjY7a2vUjOt",
        "outputId": "c2c5e27b-8244-43fa-a376-5fe7692488a0"
      },
      "execution_count": 21,
      "outputs": [
        {
          "output_type": "stream",
          "name": "stdout",
          "text": [
            "Epoch 1/20\n",
            "469/469 [==============================] - 16s 33ms/step - loss: 1.0878 - accuracy: 0.6680\n",
            "Epoch 2/20\n",
            "469/469 [==============================] - 14s 30ms/step - loss: 0.5862 - accuracy: 0.7940\n",
            "Epoch 3/20\n",
            "469/469 [==============================] - 13s 28ms/step - loss: 0.5115 - accuracy: 0.8197\n",
            "Epoch 4/20\n",
            "469/469 [==============================] - 13s 28ms/step - loss: 0.4704 - accuracy: 0.8331\n",
            "Epoch 5/20\n",
            "469/469 [==============================] - 14s 29ms/step - loss: 0.4426 - accuracy: 0.8433\n",
            "Epoch 6/20\n",
            "469/469 [==============================] - 17s 36ms/step - loss: 0.4220 - accuracy: 0.8515\n",
            "Epoch 7/20\n",
            "469/469 [==============================] - 15s 31ms/step - loss: 0.4051 - accuracy: 0.8574\n",
            "Epoch 8/20\n",
            "469/469 [==============================] - 13s 28ms/step - loss: 0.3920 - accuracy: 0.8621\n",
            "Epoch 9/20\n",
            "469/469 [==============================] - 14s 30ms/step - loss: 0.3779 - accuracy: 0.8655\n",
            "Epoch 10/20\n",
            "469/469 [==============================] - 16s 35ms/step - loss: 0.3688 - accuracy: 0.8687\n",
            "Epoch 11/20\n",
            "469/469 [==============================] - 14s 29ms/step - loss: 0.3587 - accuracy: 0.8720\n",
            "Epoch 12/20\n",
            "469/469 [==============================] - 13s 28ms/step - loss: 0.3467 - accuracy: 0.8765\n",
            "Epoch 13/20\n",
            "469/469 [==============================] - 14s 30ms/step - loss: 0.3397 - accuracy: 0.8782\n",
            "Epoch 14/20\n",
            "469/469 [==============================] - 15s 33ms/step - loss: 0.3332 - accuracy: 0.8809\n",
            "Epoch 15/20\n",
            "469/469 [==============================] - 14s 29ms/step - loss: 0.3265 - accuracy: 0.8825\n",
            "Epoch 16/20\n",
            "469/469 [==============================] - 14s 29ms/step - loss: 0.3180 - accuracy: 0.8856\n",
            "Epoch 17/20\n",
            "469/469 [==============================] - 15s 32ms/step - loss: 0.3117 - accuracy: 0.8863\n",
            "Epoch 18/20\n",
            "469/469 [==============================] - 16s 35ms/step - loss: 0.3053 - accuracy: 0.8897\n",
            "Epoch 19/20\n",
            "469/469 [==============================] - 16s 35ms/step - loss: 0.3012 - accuracy: 0.8917\n",
            "Epoch 20/20\n",
            "469/469 [==============================] - 16s 33ms/step - loss: 0.2947 - accuracy: 0.8931\n"
          ]
        },
        {
          "output_type": "execute_result",
          "data": {
            "text/plain": [
              "<keras.callbacks.History at 0x7f840940d790>"
            ]
          },
          "metadata": {},
          "execution_count": 21
        }
      ]
    },
    {
      "cell_type": "code",
      "source": [
        "score = model_3.evaluate(X_test, Y_test, verbose=0)\n",
        "print('Test score:', score[0])\n",
        "print('Test accuracy:', score[1])"
      ],
      "metadata": {
        "colab": {
          "base_uri": "https://localhost:8080/"
        },
        "id": "NMBdAmojUw1s",
        "outputId": "a8e1984e-9c88-4724-c460-a4c03c19996b"
      },
      "execution_count": 22,
      "outputs": [
        {
          "output_type": "stream",
          "name": "stdout",
          "text": [
            "Test score: 0.38253194093704224\n",
            "Test accuracy: 0.8600000143051147\n"
          ]
        }
      ]
    },
    {
      "cell_type": "markdown",
      "source": [
        "For the first objective, while all the parameters are the same, different number of deep learning layers have been applied to three differet models. As a conclusion, more the layers, the accuracy increased. "
      ],
      "metadata": {
        "id": "SnGS9AVFWHJE"
      }
    },
    {
      "cell_type": "code",
      "source": [
        "# Objective 2: Activation Functions\n",
        "\n",
        "# Activation Function: ReLU\n",
        "\n",
        "model_21 = Sequential()\n",
        "# The first dense layer\n",
        "model_21.add(Dense(512, input_shape=(784,), activation=\"relu\"))\n",
        "# The second dense layer\n",
        "model_21.add(Dense(256, input_shape=(784,), activation=\"relu\"))\n",
        "# The third dense layer\n",
        "model_21.add(Dense(128, input_shape=(784,), activation=\"relu\"))\n",
        "# The fourth dense layer\n",
        "model_21.add(Dense(64, input_shape=(784,), activation=\"relu\"))\n",
        "# The last layer is the output layer\n",
        "model_21.add(Dense(10, activation=\"softmax\"))\n",
        "\n",
        "model_21.compile(optimizer='sgd', loss='categorical_crossentropy',\n",
        "              metrics=['accuracy'])\n",
        "\n",
        "model_21.fit(X_train, Y_train, batch_size=batch_size, epochs=20, verbose=1)"
      ],
      "metadata": {
        "colab": {
          "base_uri": "https://localhost:8080/"
        },
        "id": "BnpE-QZNUzog",
        "outputId": "4613658a-1600-4010-d510-d963747e3bf5"
      },
      "execution_count": 23,
      "outputs": [
        {
          "output_type": "stream",
          "name": "stdout",
          "text": [
            "Epoch 1/20\n",
            "469/469 [==============================] - 6s 11ms/step - loss: 1.0742 - accuracy: 0.6616\n",
            "Epoch 2/20\n",
            "469/469 [==============================] - 5s 11ms/step - loss: 0.6052 - accuracy: 0.7922\n",
            "Epoch 3/20\n",
            "469/469 [==============================] - 6s 13ms/step - loss: 0.5225 - accuracy: 0.8188\n",
            "Epoch 4/20\n",
            "469/469 [==============================] - 6s 12ms/step - loss: 0.4804 - accuracy: 0.8320\n",
            "Epoch 5/20\n",
            "469/469 [==============================] - 6s 12ms/step - loss: 0.4526 - accuracy: 0.8419\n",
            "Epoch 6/20\n",
            "469/469 [==============================] - 9s 19ms/step - loss: 0.4327 - accuracy: 0.8482\n",
            "Epoch 7/20\n",
            "469/469 [==============================] - 7s 14ms/step - loss: 0.4180 - accuracy: 0.8538\n",
            "Epoch 8/20\n",
            "469/469 [==============================] - 6s 13ms/step - loss: 0.4035 - accuracy: 0.8575\n",
            "Epoch 9/20\n",
            "469/469 [==============================] - 5s 12ms/step - loss: 0.3929 - accuracy: 0.8631\n",
            "Epoch 10/20\n",
            "469/469 [==============================] - 5s 12ms/step - loss: 0.3846 - accuracy: 0.8649\n",
            "Epoch 11/20\n",
            "469/469 [==============================] - 6s 12ms/step - loss: 0.3749 - accuracy: 0.8679\n",
            "Epoch 12/20\n",
            "469/469 [==============================] - 6s 12ms/step - loss: 0.3668 - accuracy: 0.8705\n",
            "Epoch 13/20\n",
            "469/469 [==============================] - 6s 14ms/step - loss: 0.3568 - accuracy: 0.8744\n",
            "Epoch 14/20\n",
            "469/469 [==============================] - 7s 14ms/step - loss: 0.3529 - accuracy: 0.8746\n",
            "Epoch 15/20\n",
            "469/469 [==============================] - 6s 13ms/step - loss: 0.3477 - accuracy: 0.8766\n",
            "Epoch 16/20\n",
            "469/469 [==============================] - 6s 14ms/step - loss: 0.3411 - accuracy: 0.8783\n",
            "Epoch 17/20\n",
            "469/469 [==============================] - 6s 13ms/step - loss: 0.3343 - accuracy: 0.8813\n",
            "Epoch 18/20\n",
            "469/469 [==============================] - 6s 13ms/step - loss: 0.3292 - accuracy: 0.8825\n",
            "Epoch 19/20\n",
            "469/469 [==============================] - 8s 16ms/step - loss: 0.3241 - accuracy: 0.8850\n",
            "Epoch 20/20\n",
            "469/469 [==============================] - 6s 14ms/step - loss: 0.3192 - accuracy: 0.8853\n"
          ]
        },
        {
          "output_type": "execute_result",
          "data": {
            "text/plain": [
              "<keras.callbacks.History at 0x7f84092e4460>"
            ]
          },
          "metadata": {},
          "execution_count": 23
        }
      ]
    },
    {
      "cell_type": "code",
      "source": [
        "score = model_21.evaluate(X_test, Y_test, verbose=0)\n",
        "print('Test score:', score[0])\n",
        "print('Test accuracy:', score[1])"
      ],
      "metadata": {
        "colab": {
          "base_uri": "https://localhost:8080/"
        },
        "id": "-zFXhjyBVqU2",
        "outputId": "d8116c59-bf57-4ff0-85d6-9a5773194de2"
      },
      "execution_count": 24,
      "outputs": [
        {
          "output_type": "stream",
          "name": "stdout",
          "text": [
            "Test score: 0.3751232326030731\n",
            "Test accuracy: 0.8626000285148621\n"
          ]
        }
      ]
    },
    {
      "cell_type": "code",
      "source": [
        "model_22 = Sequential()\n",
        "# The first dense layer\n",
        "model_22.add(Dense(512, input_shape=(784,), activation=\"sigmoid\"))\n",
        "# The second dense layer\n",
        "model_22.add(Dense(256, input_shape=(784,), activation=\"sigmoid\"))\n",
        "# The third dense layer\n",
        "model_22.add(Dense(128, input_shape=(784,), activation=\"sigmoid\"))\n",
        "# The fourth dense layer\n",
        "model_22.add(Dense(64, input_shape=(784,), activation=\"sigmoid\"))\n",
        "# The last layer is the output layer\n",
        "model_22.add(Dense(10, activation=\"softmax\"))\n",
        "\n",
        "model_22.compile(optimizer='sgd', loss='categorical_crossentropy',\n",
        "              metrics=['accuracy'])\n",
        "\n",
        "model_22.fit(X_train, Y_train, batch_size=batch_size, epochs=20, verbose=1)"
      ],
      "metadata": {
        "colab": {
          "base_uri": "https://localhost:8080/"
        },
        "id": "zFzQSvzAVsZn",
        "outputId": "d941de54-2356-4e30-d16e-c2aca524d720"
      },
      "execution_count": 25,
      "outputs": [
        {
          "output_type": "stream",
          "name": "stdout",
          "text": [
            "Epoch 1/20\n",
            "469/469 [==============================] - 6s 12ms/step - loss: 2.3111 - accuracy: 0.1007\n",
            "Epoch 2/20\n",
            "469/469 [==============================] - 6s 12ms/step - loss: 2.3020 - accuracy: 0.1040\n",
            "Epoch 3/20\n",
            "469/469 [==============================] - 6s 13ms/step - loss: 2.3012 - accuracy: 0.1117\n",
            "Epoch 4/20\n",
            "469/469 [==============================] - 7s 15ms/step - loss: 2.3003 - accuracy: 0.1112\n",
            "Epoch 5/20\n",
            "469/469 [==============================] - 6s 13ms/step - loss: 2.2994 - accuracy: 0.1236\n",
            "Epoch 6/20\n",
            "469/469 [==============================] - 6s 12ms/step - loss: 2.2984 - accuracy: 0.1373\n",
            "Epoch 7/20\n",
            "469/469 [==============================] - 6s 14ms/step - loss: 2.2973 - accuracy: 0.1346\n",
            "Epoch 8/20\n",
            "469/469 [==============================] - 5s 11ms/step - loss: 2.2961 - accuracy: 0.1482\n",
            "Epoch 9/20\n",
            "469/469 [==============================] - 6s 12ms/step - loss: 2.2947 - accuracy: 0.1576\n",
            "Epoch 10/20\n",
            "469/469 [==============================] - 8s 17ms/step - loss: 2.2931 - accuracy: 0.1616\n",
            "Epoch 11/20\n",
            "469/469 [==============================] - 7s 14ms/step - loss: 2.2912 - accuracy: 0.1774\n",
            "Epoch 12/20\n",
            "469/469 [==============================] - 5s 12ms/step - loss: 2.2891 - accuracy: 0.1852\n",
            "Epoch 13/20\n",
            "469/469 [==============================] - 8s 17ms/step - loss: 2.2866 - accuracy: 0.2177\n",
            "Epoch 14/20\n",
            "469/469 [==============================] - 8s 17ms/step - loss: 2.2833 - accuracy: 0.2129\n",
            "Epoch 15/20\n",
            "469/469 [==============================] - 7s 15ms/step - loss: 2.2793 - accuracy: 0.2562\n",
            "Epoch 16/20\n",
            "469/469 [==============================] - 6s 12ms/step - loss: 2.2741 - accuracy: 0.2905\n",
            "Epoch 17/20\n",
            "469/469 [==============================] - 5s 11ms/step - loss: 2.2670 - accuracy: 0.3040\n",
            "Epoch 18/20\n",
            "469/469 [==============================] - 6s 13ms/step - loss: 2.2576 - accuracy: 0.3358\n",
            "Epoch 19/20\n",
            "469/469 [==============================] - 6s 12ms/step - loss: 2.2440 - accuracy: 0.3748\n",
            "Epoch 20/20\n",
            "469/469 [==============================] - 6s 13ms/step - loss: 2.2237 - accuracy: 0.3709\n"
          ]
        },
        {
          "output_type": "execute_result",
          "data": {
            "text/plain": [
              "<keras.callbacks.History at 0x7f8409186fa0>"
            ]
          },
          "metadata": {},
          "execution_count": 25
        }
      ]
    },
    {
      "cell_type": "code",
      "source": [
        "score = model_22.evaluate(X_test, Y_test, verbose=0)\n",
        "print('Test score:', score[0])\n",
        "print('Test accuracy:', score[1])"
      ],
      "metadata": {
        "colab": {
          "base_uri": "https://localhost:8080/"
        },
        "id": "KGSSnBkrV1ON",
        "outputId": "0c493b70-451a-45a2-bd9a-a51c5a2447c3"
      },
      "execution_count": 26,
      "outputs": [
        {
          "output_type": "stream",
          "name": "stdout",
          "text": [
            "Test score: 2.210146188735962\n",
            "Test accuracy: 0.3573000133037567\n"
          ]
        }
      ]
    },
    {
      "cell_type": "code",
      "source": [
        "model_23 = Sequential()\n",
        "# The first dense layer\n",
        "model_23.add(Dense(512, input_shape=(784,), activation=\"tanh\"))\n",
        "# The second dense layer\n",
        "model_23.add(Dense(256, input_shape=(784,), activation=\"tanh\"))\n",
        "# The third dense layer\n",
        "model_23.add(Dense(128, input_shape=(784,), activation=\"tanh\"))\n",
        "# The fourth dense layer\n",
        "model_23.add(Dense(64, input_shape=(784,), activation=\"tanh\"))\n",
        "# The last layer is the output layer\n",
        "model_23.add(Dense(10, activation=\"softmax\"))\n",
        "\n",
        "model_23.compile(optimizer='sgd', loss='categorical_crossentropy',\n",
        "              metrics=['accuracy'])\n",
        "\n",
        "model_23.fit(X_train, Y_train, batch_size=batch_size, epochs=20, verbose=1)"
      ],
      "metadata": {
        "colab": {
          "base_uri": "https://localhost:8080/"
        },
        "id": "qopLIHzlW956",
        "outputId": "31c625cb-f9f7-44c5-df26-f191b06bdf38"
      },
      "execution_count": 27,
      "outputs": [
        {
          "output_type": "stream",
          "name": "stdout",
          "text": [
            "Epoch 1/20\n",
            "469/469 [==============================] - 6s 11ms/step - loss: 0.8563 - accuracy: 0.7354\n",
            "Epoch 2/20\n",
            "469/469 [==============================] - 6s 12ms/step - loss: 0.5453 - accuracy: 0.8137\n",
            "Epoch 3/20\n",
            "469/469 [==============================] - 6s 14ms/step - loss: 0.4859 - accuracy: 0.8305\n",
            "Epoch 4/20\n",
            "469/469 [==============================] - 8s 17ms/step - loss: 0.4552 - accuracy: 0.8404\n",
            "Epoch 5/20\n",
            "469/469 [==============================] - 8s 16ms/step - loss: 0.4348 - accuracy: 0.8465\n",
            "Epoch 6/20\n",
            "469/469 [==============================] - 7s 16ms/step - loss: 0.4190 - accuracy: 0.8510\n",
            "Epoch 7/20\n",
            "469/469 [==============================] - 6s 14ms/step - loss: 0.4066 - accuracy: 0.8554\n",
            "Epoch 8/20\n",
            "469/469 [==============================] - 6s 14ms/step - loss: 0.3970 - accuracy: 0.8586\n",
            "Epoch 9/20\n",
            "469/469 [==============================] - 8s 17ms/step - loss: 0.3879 - accuracy: 0.8618\n",
            "Epoch 10/20\n",
            "469/469 [==============================] - 7s 14ms/step - loss: 0.3806 - accuracy: 0.8639\n",
            "Epoch 11/20\n",
            "469/469 [==============================] - 6s 13ms/step - loss: 0.3745 - accuracy: 0.8654\n",
            "Epoch 12/20\n",
            "469/469 [==============================] - 6s 12ms/step - loss: 0.3675 - accuracy: 0.8679\n",
            "Epoch 13/20\n",
            "469/469 [==============================] - 5s 12ms/step - loss: 0.3623 - accuracy: 0.8698\n",
            "Epoch 14/20\n",
            "469/469 [==============================] - 6s 12ms/step - loss: 0.3576 - accuracy: 0.8723\n",
            "Epoch 15/20\n",
            "469/469 [==============================] - 6s 13ms/step - loss: 0.3528 - accuracy: 0.8730\n",
            "Epoch 16/20\n",
            "469/469 [==============================] - 7s 14ms/step - loss: 0.3478 - accuracy: 0.8747\n",
            "Epoch 17/20\n",
            "469/469 [==============================] - 7s 14ms/step - loss: 0.3435 - accuracy: 0.8750\n",
            "Epoch 18/20\n",
            "469/469 [==============================] - 6s 13ms/step - loss: 0.3402 - accuracy: 0.8766\n",
            "Epoch 19/20\n",
            "469/469 [==============================] - 6s 12ms/step - loss: 0.3359 - accuracy: 0.8788\n",
            "Epoch 20/20\n",
            "469/469 [==============================] - 5s 11ms/step - loss: 0.3329 - accuracy: 0.8802\n"
          ]
        },
        {
          "output_type": "execute_result",
          "data": {
            "text/plain": [
              "<keras.callbacks.History at 0x7f840909e1f0>"
            ]
          },
          "metadata": {},
          "execution_count": 27
        }
      ]
    },
    {
      "cell_type": "code",
      "source": [
        "score = model_23.evaluate(X_test, Y_test, verbose=0)\n",
        "print('Test score:', score[0])\n",
        "print('Test accuracy:', score[1])"
      ],
      "metadata": {
        "colab": {
          "base_uri": "https://localhost:8080/"
        },
        "id": "wclnLtHoXFjj",
        "outputId": "4a4c73c0-00a2-4bbb-f42e-b3efd1bbc8b9"
      },
      "execution_count": 28,
      "outputs": [
        {
          "output_type": "stream",
          "name": "stdout",
          "text": [
            "Test score: 0.3889506459236145\n",
            "Test accuracy: 0.8604000210762024\n"
          ]
        }
      ]
    },
    {
      "cell_type": "markdown",
      "source": [
        "For the second objective, different activation functions were used to come up with the model with highest accuracy. Based on the above performance, the activation function of \"Tanh\" gives the best result. "
      ],
      "metadata": {
        "id": "IlBvz8nbYKaj"
      }
    },
    {
      "cell_type": "code",
      "source": [
        "# Objective 3: Number of neurons in the layers\n",
        "\n",
        "model_31 = Sequential()\n",
        "# The first dense layer\n",
        "model_31.add(Dense(20, input_shape=(784,), activation=\"tanh\"))\n",
        "# The second dense layer\n",
        "model_31.add(Dense(20, input_shape=(784,), activation=\"tanh\"))\n",
        "# The third dense layer\n",
        "model_31.add(Dense(20, input_shape=(784,), activation=\"tanh\"))\n",
        "# The fourth dense layer\n",
        "model_31.add(Dense(20, input_shape=(784,), activation=\"tanh\"))\n",
        "# The last layer is the output layer\n",
        "model_31.add(Dense(10, activation=\"softmax\"))\n",
        "\n",
        "model_31.compile(optimizer='sgd', loss='categorical_crossentropy',\n",
        "              metrics=['accuracy'])\n",
        "\n",
        "model_31.fit(X_train, Y_train, batch_size=batch_size, epochs=20, verbose=1)"
      ],
      "metadata": {
        "colab": {
          "base_uri": "https://localhost:8080/"
        },
        "id": "FICSXm-RmDGR",
        "outputId": "27106ae9-3aef-43a5-fd12-502bd2c32f9a"
      },
      "execution_count": 29,
      "outputs": [
        {
          "output_type": "stream",
          "name": "stdout",
          "text": [
            "Epoch 1/20\n",
            "469/469 [==============================] - 2s 3ms/step - loss: 1.5917 - accuracy: 0.5193\n",
            "Epoch 2/20\n",
            "469/469 [==============================] - 1s 3ms/step - loss: 1.0210 - accuracy: 0.7163\n",
            "Epoch 3/20\n",
            "469/469 [==============================] - 1s 3ms/step - loss: 0.7947 - accuracy: 0.7589\n",
            "Epoch 4/20\n",
            "469/469 [==============================] - 1s 3ms/step - loss: 0.6800 - accuracy: 0.7831\n",
            "Epoch 5/20\n",
            "469/469 [==============================] - 1s 3ms/step - loss: 0.6101 - accuracy: 0.8049\n",
            "Epoch 6/20\n",
            "469/469 [==============================] - 1s 3ms/step - loss: 0.5610 - accuracy: 0.8197\n",
            "Epoch 7/20\n",
            "469/469 [==============================] - 1s 3ms/step - loss: 0.5270 - accuracy: 0.8287\n",
            "Epoch 8/20\n",
            "469/469 [==============================] - 1s 3ms/step - loss: 0.5013 - accuracy: 0.8336\n",
            "Epoch 9/20\n",
            "469/469 [==============================] - 1s 3ms/step - loss: 0.4822 - accuracy: 0.8387\n",
            "Epoch 10/20\n",
            "469/469 [==============================] - 1s 3ms/step - loss: 0.4670 - accuracy: 0.8424\n",
            "Epoch 11/20\n",
            "469/469 [==============================] - 1s 3ms/step - loss: 0.4544 - accuracy: 0.8457\n",
            "Epoch 12/20\n",
            "469/469 [==============================] - 1s 3ms/step - loss: 0.4429 - accuracy: 0.8487\n",
            "Epoch 13/20\n",
            "469/469 [==============================] - 1s 3ms/step - loss: 0.4343 - accuracy: 0.8507\n",
            "Epoch 14/20\n",
            "469/469 [==============================] - 1s 3ms/step - loss: 0.4259 - accuracy: 0.8522\n",
            "Epoch 15/20\n",
            "469/469 [==============================] - 1s 3ms/step - loss: 0.4176 - accuracy: 0.8551\n",
            "Epoch 16/20\n",
            "469/469 [==============================] - 2s 4ms/step - loss: 0.4115 - accuracy: 0.8572\n",
            "Epoch 17/20\n",
            "469/469 [==============================] - 1s 3ms/step - loss: 0.4048 - accuracy: 0.8609\n",
            "Epoch 18/20\n",
            "469/469 [==============================] - 1s 3ms/step - loss: 0.3991 - accuracy: 0.8615\n",
            "Epoch 19/20\n",
            "469/469 [==============================] - 1s 3ms/step - loss: 0.3949 - accuracy: 0.8623\n",
            "Epoch 20/20\n",
            "469/469 [==============================] - 1s 3ms/step - loss: 0.3897 - accuracy: 0.8645\n"
          ]
        },
        {
          "output_type": "execute_result",
          "data": {
            "text/plain": [
              "<keras.callbacks.History at 0x7f8408f56d90>"
            ]
          },
          "metadata": {},
          "execution_count": 29
        }
      ]
    },
    {
      "cell_type": "code",
      "source": [
        "score = model_31.evaluate(X_test, Y_test, verbose=0)\n",
        "print('Test score:', score[0])\n",
        "print('Test accuracy:', score[1])"
      ],
      "metadata": {
        "colab": {
          "base_uri": "https://localhost:8080/"
        },
        "id": "9IGcyP3OmLVa",
        "outputId": "baef99f6-6195-4ac6-cfd8-b514be6c2fd6"
      },
      "execution_count": 30,
      "outputs": [
        {
          "output_type": "stream",
          "name": "stdout",
          "text": [
            "Test score: 0.42881694436073303\n",
            "Test accuracy: 0.8478999733924866\n"
          ]
        }
      ]
    },
    {
      "cell_type": "code",
      "source": [
        "model_32 = Sequential()\n",
        "# The first dense layer\n",
        "model_32.add(Dense(512, input_shape=(784,), activation=\"tanh\"))\n",
        "# The second dense layer\n",
        "model_32.add(Dense(256, input_shape=(784,), activation=\"tanh\"))\n",
        "# The third dense layer\n",
        "model_32.add(Dense(128, input_shape=(784,), activation=\"tanh\"))\n",
        "# The fourth dense layer\n",
        "model_32.add(Dense(64, input_shape=(784,), activation=\"tanh\"))\n",
        "# The last layer is the output layer\n",
        "model_32.add(Dense(10, activation=\"softmax\"))\n",
        "\n",
        "model_32.compile(optimizer='sgd', loss='categorical_crossentropy',\n",
        "              metrics=['accuracy'])\n",
        "\n",
        "model_32.fit(X_train, Y_train, batch_size=batch_size, epochs=20, verbose=1)"
      ],
      "metadata": {
        "colab": {
          "base_uri": "https://localhost:8080/"
        },
        "id": "1gvzy2nemObv",
        "outputId": "a24b0c7e-7113-4e7b-ca33-7818d9ff8e4b"
      },
      "execution_count": 31,
      "outputs": [
        {
          "output_type": "stream",
          "name": "stdout",
          "text": [
            "Epoch 1/20\n",
            "469/469 [==============================] - 6s 12ms/step - loss: 0.8842 - accuracy: 0.7338\n",
            "Epoch 2/20\n",
            "469/469 [==============================] - 5s 11ms/step - loss: 0.5550 - accuracy: 0.8137\n",
            "Epoch 3/20\n",
            "469/469 [==============================] - 5s 11ms/step - loss: 0.4886 - accuracy: 0.8309\n",
            "Epoch 4/20\n",
            "469/469 [==============================] - 5s 11ms/step - loss: 0.4558 - accuracy: 0.8408\n",
            "Epoch 5/20\n",
            "469/469 [==============================] - 5s 11ms/step - loss: 0.4347 - accuracy: 0.8477\n",
            "Epoch 6/20\n",
            "469/469 [==============================] - 5s 11ms/step - loss: 0.4194 - accuracy: 0.8527\n",
            "Epoch 7/20\n",
            "469/469 [==============================] - 5s 11ms/step - loss: 0.4061 - accuracy: 0.8573\n",
            "Epoch 8/20\n",
            "469/469 [==============================] - 5s 11ms/step - loss: 0.3961 - accuracy: 0.8601\n",
            "Epoch 9/20\n",
            "469/469 [==============================] - 6s 13ms/step - loss: 0.3874 - accuracy: 0.8631\n",
            "Epoch 10/20\n",
            "469/469 [==============================] - 5s 11ms/step - loss: 0.3804 - accuracy: 0.8663\n",
            "Epoch 11/20\n",
            "469/469 [==============================] - 5s 11ms/step - loss: 0.3731 - accuracy: 0.8679\n",
            "Epoch 12/20\n",
            "469/469 [==============================] - 5s 11ms/step - loss: 0.3674 - accuracy: 0.8695\n",
            "Epoch 13/20\n",
            "469/469 [==============================] - 5s 11ms/step - loss: 0.3611 - accuracy: 0.8708\n",
            "Epoch 14/20\n",
            "469/469 [==============================] - 5s 11ms/step - loss: 0.3566 - accuracy: 0.8733\n",
            "Epoch 15/20\n",
            "469/469 [==============================] - 5s 11ms/step - loss: 0.3516 - accuracy: 0.8750\n",
            "Epoch 16/20\n",
            "469/469 [==============================] - 5s 12ms/step - loss: 0.3472 - accuracy: 0.8766\n",
            "Epoch 17/20\n",
            "469/469 [==============================] - 5s 11ms/step - loss: 0.3430 - accuracy: 0.8778\n",
            "Epoch 18/20\n",
            "469/469 [==============================] - 5s 11ms/step - loss: 0.3394 - accuracy: 0.8781\n",
            "Epoch 19/20\n",
            "469/469 [==============================] - 5s 11ms/step - loss: 0.3368 - accuracy: 0.8795\n",
            "Epoch 20/20\n",
            "469/469 [==============================] - 5s 11ms/step - loss: 0.3326 - accuracy: 0.8810\n"
          ]
        },
        {
          "output_type": "execute_result",
          "data": {
            "text/plain": [
              "<keras.callbacks.History at 0x7f8408e1b6a0>"
            ]
          },
          "metadata": {},
          "execution_count": 31
        }
      ]
    },
    {
      "cell_type": "code",
      "source": [
        "score = model_32.evaluate(X_test, Y_test, verbose=0)\n",
        "print('Test score:', score[0])\n",
        "print('Test accuracy:', score[1])"
      ],
      "metadata": {
        "colab": {
          "base_uri": "https://localhost:8080/"
        },
        "id": "K40myiUZmQeE",
        "outputId": "6fc3d072-01e9-4e9d-8dcc-ee5a77c9c72e"
      },
      "execution_count": 32,
      "outputs": [
        {
          "output_type": "stream",
          "name": "stdout",
          "text": [
            "Test score: 0.379571795463562\n",
            "Test accuracy: 0.8636999726295471\n"
          ]
        }
      ]
    },
    {
      "cell_type": "code",
      "source": [
        "model_33 = Sequential()\n",
        "# The first dense layer\n",
        "model_33.add(Dense(1000, input_shape=(784,), activation=\"tanh\"))\n",
        "# The second dense layer\n",
        "model_33.add(Dense(1000, input_shape=(784,), activation=\"tanh\"))\n",
        "# The third dense layer\n",
        "model_33.add(Dense(1000, input_shape=(784,), activation=\"tanh\"))\n",
        "# The fourth dense layer\n",
        "model_33.add(Dense(1000, input_shape=(784,), activation=\"tanh\"))\n",
        "# The last layer is the output layer\n",
        "model_33.add(Dense(10, activation=\"softmax\"))\n",
        "\n",
        "model_33.compile(optimizer='sgd', loss='categorical_crossentropy',\n",
        "              metrics=['accuracy'])\n",
        "\n",
        "model_33.fit(X_train, Y_train, batch_size=batch_size, epochs=20, verbose=1)"
      ],
      "metadata": {
        "colab": {
          "base_uri": "https://localhost:8080/"
        },
        "id": "s4Lr5EqsmSIL",
        "outputId": "6c073b45-1a08-4ab4-e716-966aa7259bff"
      },
      "execution_count": 34,
      "outputs": [
        {
          "output_type": "stream",
          "name": "stdout",
          "text": [
            "Epoch 1/20\n",
            "469/469 [==============================] - 37s 76ms/step - loss: 0.7132 - accuracy: 0.7667\n",
            "Epoch 2/20\n",
            "469/469 [==============================] - 32s 67ms/step - loss: 0.4944 - accuracy: 0.8263\n",
            "Epoch 3/20\n",
            "469/469 [==============================] - 33s 69ms/step - loss: 0.4548 - accuracy: 0.8397\n",
            "Epoch 4/20\n",
            "469/469 [==============================] - 33s 70ms/step - loss: 0.4343 - accuracy: 0.8461\n",
            "Epoch 5/20\n",
            "469/469 [==============================] - 37s 78ms/step - loss: 0.4212 - accuracy: 0.8503\n",
            "Epoch 6/20\n",
            "469/469 [==============================] - 39s 83ms/step - loss: 0.4100 - accuracy: 0.8556\n",
            "Epoch 7/20\n",
            "469/469 [==============================] - 43s 91ms/step - loss: 0.4014 - accuracy: 0.8570\n",
            "Epoch 8/20\n",
            "469/469 [==============================] - 42s 90ms/step - loss: 0.3938 - accuracy: 0.8591\n",
            "Epoch 9/20\n",
            "469/469 [==============================] - 41s 86ms/step - loss: 0.3891 - accuracy: 0.8612\n",
            "Epoch 10/20\n",
            "469/469 [==============================] - 43s 92ms/step - loss: 0.3829 - accuracy: 0.8633\n",
            "Epoch 11/20\n",
            "469/469 [==============================] - 43s 92ms/step - loss: 0.3785 - accuracy: 0.8644\n",
            "Epoch 12/20\n",
            "469/469 [==============================] - 43s 91ms/step - loss: 0.3718 - accuracy: 0.8673\n",
            "Epoch 13/20\n",
            "469/469 [==============================] - 43s 92ms/step - loss: 0.3671 - accuracy: 0.8683\n",
            "Epoch 14/20\n",
            "469/469 [==============================] - 36s 77ms/step - loss: 0.3630 - accuracy: 0.8709\n",
            "Epoch 15/20\n",
            "469/469 [==============================] - 37s 79ms/step - loss: 0.3588 - accuracy: 0.8717\n",
            "Epoch 16/20\n",
            "469/469 [==============================] - 47s 101ms/step - loss: 0.3544 - accuracy: 0.8727\n",
            "Epoch 17/20\n",
            "469/469 [==============================] - 36s 78ms/step - loss: 0.3520 - accuracy: 0.8731\n",
            "Epoch 18/20\n",
            "469/469 [==============================] - 38s 80ms/step - loss: 0.3469 - accuracy: 0.8751\n",
            "Epoch 19/20\n",
            "469/469 [==============================] - 37s 79ms/step - loss: 0.3445 - accuracy: 0.8762\n",
            "Epoch 20/20\n",
            "469/469 [==============================] - 37s 78ms/step - loss: 0.3413 - accuracy: 0.8777\n"
          ]
        },
        {
          "output_type": "execute_result",
          "data": {
            "text/plain": [
              "<keras.callbacks.History at 0x7f83ff48c550>"
            ]
          },
          "metadata": {},
          "execution_count": 34
        }
      ]
    },
    {
      "cell_type": "code",
      "source": [
        "score = model_33.evaluate(X_test, Y_test, verbose=0)\n",
        "print('Test score:', score[0])\n",
        "print('Test accuracy:', score[1])"
      ],
      "metadata": {
        "colab": {
          "base_uri": "https://localhost:8080/"
        },
        "id": "XCkdT6vTmSbd",
        "outputId": "f3cac4af-40a3-4352-c894-6d87c289d841"
      },
      "execution_count": 35,
      "outputs": [
        {
          "output_type": "stream",
          "name": "stdout",
          "text": [
            "Test score: 0.4090484082698822\n",
            "Test accuracy: 0.8508999943733215\n"
          ]
        }
      ]
    },
    {
      "cell_type": "markdown",
      "source": [
        "For the third objective, different number of neurons in the layers were used for 5 layers with tanh activation functions which gave the favorable results in previous objectives. As a result of the comparisons, higher number of neurons takes longer time to execute the codes but do not give a better accuracy. As such, for the objective 4, 10-64-128-256-512, which gives the highest accuracy, will be used.  "
      ],
      "metadata": {
        "id": "0Loym3s5ozLS"
      }
    },
    {
      "cell_type": "code",
      "source": [
        "# Objective 4: Batch Size\n",
        "\n",
        "model_41 = Sequential()\n",
        "# The first dense layer\n",
        "model_41.add(Dense(512, input_shape=(784,), activation=\"tanh\"))\n",
        "# The second dense layer\n",
        "model_41.add(Dense(256, input_shape=(784,), activation=\"tanh\"))\n",
        "# The third dense layer\n",
        "model_41.add(Dense(128, input_shape=(784,), activation=\"tanh\"))\n",
        "# The fourth dense layer\n",
        "model_41.add(Dense(64, input_shape=(784,), activation=\"tanh\"))\n",
        "# The last layer is the output layer\n",
        "model_41.add(Dense(10, activation=\"softmax\"))\n",
        "\n",
        "model_41.compile(optimizer='sgd', loss='categorical_crossentropy',\n",
        "              metrics=['accuracy'])\n",
        "\n",
        "model_41.fit(X_train, Y_train, batch_size=batch_size, epochs=20, verbose=1)"
      ],
      "metadata": {
        "colab": {
          "base_uri": "https://localhost:8080/"
        },
        "id": "4050NbOJmUCN",
        "outputId": "8ec5037a-7da8-4647-cfed-e0f060c103a9"
      },
      "execution_count": 36,
      "outputs": [
        {
          "output_type": "stream",
          "name": "stdout",
          "text": [
            "Epoch 1/20\n",
            "469/469 [==============================] - 7s 15ms/step - loss: 0.8645 - accuracy: 0.7295\n",
            "Epoch 2/20\n",
            "469/469 [==============================] - 6s 13ms/step - loss: 0.5581 - accuracy: 0.8127\n",
            "Epoch 3/20\n",
            "469/469 [==============================] - 6s 13ms/step - loss: 0.4923 - accuracy: 0.8303\n",
            "Epoch 4/20\n",
            "469/469 [==============================] - 6s 13ms/step - loss: 0.4588 - accuracy: 0.8395\n",
            "Epoch 5/20\n",
            "469/469 [==============================] - 6s 13ms/step - loss: 0.4374 - accuracy: 0.8454\n",
            "Epoch 6/20\n",
            "469/469 [==============================] - 6s 14ms/step - loss: 0.4204 - accuracy: 0.8518\n",
            "Epoch 7/20\n",
            "469/469 [==============================] - 6s 13ms/step - loss: 0.4089 - accuracy: 0.8557\n",
            "Epoch 8/20\n",
            "469/469 [==============================] - 6s 13ms/step - loss: 0.3981 - accuracy: 0.8589\n",
            "Epoch 9/20\n",
            "469/469 [==============================] - 6s 13ms/step - loss: 0.3891 - accuracy: 0.8615\n",
            "Epoch 10/20\n",
            "469/469 [==============================] - 6s 13ms/step - loss: 0.3816 - accuracy: 0.8647\n",
            "Epoch 11/20\n",
            "469/469 [==============================] - 6s 13ms/step - loss: 0.3746 - accuracy: 0.8666\n",
            "Epoch 12/20\n",
            "469/469 [==============================] - 7s 16ms/step - loss: 0.3676 - accuracy: 0.8690\n",
            "Epoch 13/20\n",
            "469/469 [==============================] - 6s 14ms/step - loss: 0.3629 - accuracy: 0.8702\n",
            "Epoch 14/20\n",
            "469/469 [==============================] - 6s 14ms/step - loss: 0.3583 - accuracy: 0.8715\n",
            "Epoch 15/20\n",
            "469/469 [==============================] - 8s 17ms/step - loss: 0.3529 - accuracy: 0.8735\n",
            "Epoch 16/20\n",
            "469/469 [==============================] - 9s 19ms/step - loss: 0.3482 - accuracy: 0.8761\n",
            "Epoch 17/20\n",
            "469/469 [==============================] - 7s 15ms/step - loss: 0.3445 - accuracy: 0.8765\n",
            "Epoch 18/20\n",
            "469/469 [==============================] - 7s 15ms/step - loss: 0.3404 - accuracy: 0.8777\n",
            "Epoch 19/20\n",
            "469/469 [==============================] - 7s 14ms/step - loss: 0.3360 - accuracy: 0.8791\n",
            "Epoch 20/20\n",
            "469/469 [==============================] - 6s 13ms/step - loss: 0.3329 - accuracy: 0.8804\n"
          ]
        },
        {
          "output_type": "execute_result",
          "data": {
            "text/plain": [
              "<keras.callbacks.History at 0x7f83ff3f8be0>"
            ]
          },
          "metadata": {},
          "execution_count": 36
        }
      ]
    },
    {
      "cell_type": "code",
      "source": [
        "score = model_41.evaluate(X_test, Y_test, verbose=0)\n",
        "print('Test score:', score[0])\n",
        "print('Test accuracy:', score[1])"
      ],
      "metadata": {
        "colab": {
          "base_uri": "https://localhost:8080/"
        },
        "id": "2fZykIF7mjme",
        "outputId": "946f3137-f390-4d0c-cec0-7fe2944a08fa"
      },
      "execution_count": 37,
      "outputs": [
        {
          "output_type": "stream",
          "name": "stdout",
          "text": [
            "Test score: 0.3760783076286316\n",
            "Test accuracy: 0.8650000095367432\n"
          ]
        }
      ]
    },
    {
      "cell_type": "code",
      "source": [
        "model_42 = Sequential()\n",
        "# The first dense layer\n",
        "model_42.add(Dense(512, input_shape=(784,), activation=\"tanh\"))\n",
        "# The second dense layer\n",
        "model_42.add(Dense(256, input_shape=(784,), activation=\"tanh\"))\n",
        "# The third dense layer\n",
        "model_42.add(Dense(128, input_shape=(784,), activation=\"tanh\"))\n",
        "# The fourth dense layer\n",
        "model_42.add(Dense(64, input_shape=(784,), activation=\"tanh\"))\n",
        "# The last layer is the output layer\n",
        "model_42.add(Dense(10, activation=\"softmax\"))\n",
        "\n",
        "model_42.compile(optimizer='sgd', loss='categorical_crossentropy',\n",
        "              metrics=['accuracy'])\n",
        "\n",
        "model_42.fit(X_train, Y_train, batch_size=64, epochs=20, verbose=1)"
      ],
      "metadata": {
        "colab": {
          "base_uri": "https://localhost:8080/"
        },
        "id": "mW7Hb695mmIS",
        "outputId": "b8c157b5-b9a6-41fd-e440-08a94c148fbd"
      },
      "execution_count": 39,
      "outputs": [
        {
          "output_type": "stream",
          "name": "stdout",
          "text": [
            "Epoch 1/20\n",
            "938/938 [==============================] - 26s 27ms/step - loss: 0.7301 - accuracy: 0.7631\n",
            "Epoch 2/20\n",
            "938/938 [==============================] - 26s 28ms/step - loss: 0.4813 - accuracy: 0.8321\n",
            "Epoch 3/20\n",
            "938/938 [==============================] - 29s 31ms/step - loss: 0.4346 - accuracy: 0.8465\n",
            "Epoch 4/20\n",
            "938/938 [==============================] - 29s 30ms/step - loss: 0.4094 - accuracy: 0.8552\n",
            "Epoch 5/20\n",
            "938/938 [==============================] - 27s 29ms/step - loss: 0.3924 - accuracy: 0.8597\n",
            "Epoch 6/20\n",
            "938/938 [==============================] - 26s 28ms/step - loss: 0.3789 - accuracy: 0.8662\n",
            "Epoch 7/20\n",
            "938/938 [==============================] - 23s 24ms/step - loss: 0.3688 - accuracy: 0.8686\n",
            "Epoch 8/20\n",
            "938/938 [==============================] - 25s 27ms/step - loss: 0.3593 - accuracy: 0.8715\n",
            "Epoch 9/20\n",
            "938/938 [==============================] - 24s 26ms/step - loss: 0.3498 - accuracy: 0.8748\n",
            "Epoch 10/20\n",
            "938/938 [==============================] - 31s 33ms/step - loss: 0.3441 - accuracy: 0.8763\n",
            "Epoch 11/20\n",
            "938/938 [==============================] - 28s 30ms/step - loss: 0.3363 - accuracy: 0.8792\n",
            "Epoch 12/20\n",
            "938/938 [==============================] - 26s 27ms/step - loss: 0.3299 - accuracy: 0.8812\n",
            "Epoch 13/20\n",
            "938/938 [==============================] - 25s 26ms/step - loss: 0.3237 - accuracy: 0.8844\n",
            "Epoch 14/20\n",
            "938/938 [==============================] - 25s 26ms/step - loss: 0.3191 - accuracy: 0.8849\n",
            "Epoch 15/20\n",
            "938/938 [==============================] - 24s 26ms/step - loss: 0.3148 - accuracy: 0.8870\n",
            "Epoch 16/20\n",
            "938/938 [==============================] - 26s 28ms/step - loss: 0.3098 - accuracy: 0.8888\n",
            "Epoch 17/20\n",
            "938/938 [==============================] - 24s 26ms/step - loss: 0.3045 - accuracy: 0.8900\n",
            "Epoch 18/20\n",
            "938/938 [==============================] - 24s 26ms/step - loss: 0.3008 - accuracy: 0.8921\n",
            "Epoch 19/20\n",
            "938/938 [==============================] - 24s 25ms/step - loss: 0.2970 - accuracy: 0.8931\n",
            "Epoch 20/20\n",
            "938/938 [==============================] - 23s 24ms/step - loss: 0.2923 - accuracy: 0.8946\n"
          ]
        },
        {
          "output_type": "execute_result",
          "data": {
            "text/plain": [
              "<keras.callbacks.History at 0x7f83ff2113a0>"
            ]
          },
          "metadata": {},
          "execution_count": 39
        }
      ]
    },
    {
      "cell_type": "code",
      "source": [
        "score = model_42.evaluate(X_test, Y_test, verbose=0)\n",
        "print('Test score:', score[0])\n",
        "print('Test accuracy:', score[1])"
      ],
      "metadata": {
        "colab": {
          "base_uri": "https://localhost:8080/"
        },
        "id": "ISF4MV9Lmmkf",
        "outputId": "94d95c6d-68cf-44f8-d137-7e355975e5fc"
      },
      "execution_count": 40,
      "outputs": [
        {
          "output_type": "stream",
          "name": "stdout",
          "text": [
            "Test score: 0.3676537573337555\n",
            "Test accuracy: 0.8655999898910522\n"
          ]
        }
      ]
    },
    {
      "cell_type": "code",
      "source": [
        "model_43 = Sequential()\n",
        "# The first dense layer\n",
        "model_43.add(Dense(512, input_shape=(784,), activation=\"tanh\"))\n",
        "# The second dense layer\n",
        "model_43.add(Dense(256, input_shape=(784,), activation=\"tanh\"))\n",
        "# The third dense layer\n",
        "model_43.add(Dense(128, input_shape=(784,), activation=\"tanh\"))\n",
        "# The fourth dense layer\n",
        "model_43.add(Dense(64, input_shape=(784,), activation=\"tanh\"))\n",
        "# The last layer is the output layer\n",
        "model_43.add(Dense(10, activation=\"softmax\"))\n",
        "\n",
        "model_43.compile(optimizer='sgd', loss='categorical_crossentropy',\n",
        "              metrics=['accuracy'])\n",
        "\n",
        "model_43.fit(X_train, Y_train, batch_size=60000, epochs=20, verbose=1)"
      ],
      "metadata": {
        "colab": {
          "base_uri": "https://localhost:8080/"
        },
        "id": "9n0wmuYimn1M",
        "outputId": "74c69e9c-4b99-4710-f164-f3c02021961c"
      },
      "execution_count": 41,
      "outputs": [
        {
          "output_type": "stream",
          "name": "stdout",
          "text": [
            "Epoch 1/20\n",
            "1/1 [==============================] - 5s 5s/step - loss: 2.4700 - accuracy: 0.1223\n",
            "Epoch 2/20\n",
            "1/1 [==============================] - 5s 5s/step - loss: 2.3610 - accuracy: 0.1436\n",
            "Epoch 3/20\n",
            "1/1 [==============================] - 3s 3s/step - loss: 2.2712 - accuracy: 0.1644\n",
            "Epoch 4/20\n",
            "1/1 [==============================] - 3s 3s/step - loss: 2.1949 - accuracy: 0.1867\n",
            "Epoch 5/20\n",
            "1/1 [==============================] - 3s 3s/step - loss: 2.1284 - accuracy: 0.2168\n",
            "Epoch 6/20\n",
            "1/1 [==============================] - 3s 3s/step - loss: 2.0691 - accuracy: 0.2521\n",
            "Epoch 7/20\n",
            "1/1 [==============================] - 4s 4s/step - loss: 2.0154 - accuracy: 0.3045\n",
            "Epoch 8/20\n",
            "1/1 [==============================] - 3s 3s/step - loss: 1.9662 - accuracy: 0.3701\n",
            "Epoch 9/20\n",
            "1/1 [==============================] - 3s 3s/step - loss: 1.9207 - accuracy: 0.4191\n",
            "Epoch 10/20\n",
            "1/1 [==============================] - 3s 3s/step - loss: 1.8783 - accuracy: 0.4501\n",
            "Epoch 11/20\n",
            "1/1 [==============================] - 3s 3s/step - loss: 1.8388 - accuracy: 0.4733\n",
            "Epoch 12/20\n",
            "1/1 [==============================] - 3s 3s/step - loss: 1.8018 - accuracy: 0.4937\n",
            "Epoch 13/20\n",
            "1/1 [==============================] - 3s 3s/step - loss: 1.7671 - accuracy: 0.5085\n",
            "Epoch 14/20\n",
            "1/1 [==============================] - 3s 3s/step - loss: 1.7344 - accuracy: 0.5235\n",
            "Epoch 15/20\n",
            "1/1 [==============================] - 3s 3s/step - loss: 1.7035 - accuracy: 0.5361\n",
            "Epoch 16/20\n",
            "1/1 [==============================] - 3s 3s/step - loss: 1.6744 - accuracy: 0.5471\n",
            "Epoch 17/20\n",
            "1/1 [==============================] - 3s 3s/step - loss: 1.6469 - accuracy: 0.5562\n",
            "Epoch 18/20\n",
            "1/1 [==============================] - 3s 3s/step - loss: 1.6208 - accuracy: 0.5647\n",
            "Epoch 19/20\n",
            "1/1 [==============================] - 3s 3s/step - loss: 1.5962 - accuracy: 0.5726\n",
            "Epoch 20/20\n",
            "1/1 [==============================] - 3s 3s/step - loss: 1.5727 - accuracy: 0.5804\n"
          ]
        },
        {
          "output_type": "execute_result",
          "data": {
            "text/plain": [
              "<keras.callbacks.History at 0x7f83ff062e20>"
            ]
          },
          "metadata": {},
          "execution_count": 41
        }
      ]
    },
    {
      "cell_type": "code",
      "source": [
        "score = model_43.evaluate(X_test, Y_test, verbose=0)\n",
        "print('Test score:', score[0])\n",
        "print('Test accuracy:', score[1])"
      ],
      "metadata": {
        "colab": {
          "base_uri": "https://localhost:8080/"
        },
        "id": "21pzkYUlmoPN",
        "outputId": "42f13660-c5d4-4b80-ef95-192c4a9de5b3"
      },
      "execution_count": 42,
      "outputs": [
        {
          "output_type": "stream",
          "name": "stdout",
          "text": [
            "Test score: 1.5582152605056763\n",
            "Test accuracy: 0.5788000226020813\n"
          ]
        }
      ]
    },
    {
      "cell_type": "markdown",
      "source": [
        "For the objective 4, different batch sizes were applied for different models. Based on the above performance, smaller batch size took longer to run but gave the highest accuracy. "
      ],
      "metadata": {
        "id": "ppiWDUbnzVnf"
      }
    },
    {
      "cell_type": "markdown",
      "source": [
        "Based on the performance of 12 different models with different parameters for Number of Layers, Activation Functions, Number of Neurons, and Batch Size, the model with 6 layers, activation function of \"Tanh\", number of neurons of 10-64-128-256-512, and 64 gives the highest accuracy. As such, the model would be recommended to conduct a deep machine learning study of MNIST Fashion dataset. "
      ],
      "metadata": {
        "id": "nuD3zUh0mrW9"
      }
    },
    {
      "cell_type": "code",
      "source": [],
      "metadata": {
        "id": "S-oklZpX0M2I"
      },
      "execution_count": null,
      "outputs": []
    }
  ]
}